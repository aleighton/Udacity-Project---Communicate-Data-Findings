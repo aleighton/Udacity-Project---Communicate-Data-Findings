{
 "cells": [
  {
   "cell_type": "markdown",
   "metadata": {},
   "source": [
    "# Preliminary Data Wrangling"
   ]
  },
  {
   "cell_type": "code",
   "execution_count": 2,
   "metadata": {},
   "outputs": [],
   "source": [
    "# import all packages and set plots to be embedded inline\n",
    "import numpy as np\n",
    "import pandas as pd\n",
    "import matplotlib.pyplot as plt\n",
    "import seaborn as sns\n",
    "import requests\n",
    "import zipfile \n",
    "import os \n",
    "\n",
    "%matplotlib inline"
   ]
  },
  {
   "cell_type": "markdown",
   "metadata": {},
   "source": [
    "### DataFrame and CSV filesize issues\n",
    "I originally had potential issues loading and concatenating so many csv files into one large dataframe, the saved master csv was 500Mb, it took up far to much working memory. I opted instead to write a function that would take a month as an integer between 1 and 12 inclusive and read the specific csv for that month and return that month's data as a dataframe. "
   ]
  },
  {
   "cell_type": "code",
   "execution_count": 3,
   "metadata": {
    "collapsed": true
   },
   "outputs": [],
   "source": [
    "#Takes an integer value between 1 and 12 inclusive, returns a dataframe of bikeshare data for that month \n",
    "\n",
    "#PLEASE NOTE - after initial test of loading monthly data - \n",
    "#made adjustment to start_time and end_time columns in function so they are datetime types\n",
    "#user_type was changed to categorical \n",
    "#bike_id was changed to non-numeric type \n",
    "#start_station and end_end station were changed to non-numeric types - they stay as encoded as float strings though\n",
    "#latlongs were changed to non-numeric types \n",
    "\n",
    "\n",
    "#DOES NOT REMOVE MISSING ROW DATA \n",
    "def bikeshare_monthly(month):\n",
    "    year = \"2019\"\n",
    "    filetail = \"-tripdata.csv\"\n",
    "    if(month < 10):\n",
    "        month_str = \"0\"+str(month)\n",
    "    else:\n",
    "        month_str = str(month)\n",
    "    if(month < 5):\n",
    "        business_name = \"-fordgobike\"\n",
    "    else:\n",
    "        business_name = \"-baywheels\"\n",
    "    file_name = year + month_str + business_name + filetail\n",
    "    df = pd.read_csv(file_name)\n",
    "    df.fillna(np.nan, inplace=True)\n",
    "    \n",
    "    #formatting variable types\n",
    "    df.start_time = pd.to_datetime(df.start_time)\n",
    "    df.end_time = pd.to_datetime(df.end_time)\n",
    "    df.user_type = df.user_type.astype('category')\n",
    "    df.bike_id = df.bike_id.astype('str')\n",
    "    df.start_station_latitude = df.start_station_latitude.astype('str')\n",
    "    df.start_station_longitude = df.start_station_longitude.astype('str')\n",
    "    df.end_station_latitude = df.end_station_latitude.astype('str')\n",
    "    df.end_station_longitude = df.end_station_longitude.astype('str')\n",
    "    #df.start_station_id = df.start_station_id.astype('str')\n",
    "    #df.end_station_id = df.end_station_id.astype('str')\n",
    "    df.drop(columns='bike_share_for_all_trip', inplace=True)\n",
    "    return df"
   ]
  },
  {
   "cell_type": "code",
   "execution_count": 36,
   "metadata": {},
   "outputs": [
    {
     "name": "stdout",
     "output_type": "stream",
     "text": [
      "200\n",
      "zip file saved...\n",
      "200\n",
      "zip file saved...\n",
      "200\n",
      "zip file saved...\n",
      "200\n",
      "zip file saved...\n",
      "200\n",
      "zip file saved...\n",
      "200\n",
      "zip file saved...\n",
      "200\n",
      "zip file saved...\n",
      "200\n",
      "zip file saved...\n",
      "200\n",
      "zip file saved...\n",
      "200\n",
      "zip file saved...\n",
      "200\n",
      "zip file saved...\n",
      "200\n",
      "zip file saved...\n"
     ]
    }
   ],
   "source": [
    "#download zip files containing bikeshare data \n",
    "base_url = \"https://s3.amazonaws.com/baywheels-data/\"\n",
    "year = \"2019\"\n",
    "business0_name = \"-fordgobike\"\n",
    "business1_name = \"-baywheels\"\n",
    "tail = \"-tripdata.csv.zip\"\n",
    "\n",
    "#iterate through each month 1 -> 12\n",
    "for i in range(1, 13):\n",
    "    #business name changes in April (04)\n",
    "    if(i < 5):\n",
    "        tail_url = business0_name + tail\n",
    "    else:\n",
    "        tail_url = business1_name + tail\n",
    "    if(i < 10):\n",
    "        month = \"0\" + str(i)\n",
    "    else:\n",
    "        month = str(i)\n",
    "    #join strings to make download path \n",
    "    url = base_url + year + month + tail_url\n",
    "    filename = year + month + tail_url\n",
    "    response = requests.get(url)\n",
    "    #if get request returned OK, write file \n",
    "    print(response.status_code)\n",
    "    if response.status_code == 200:\n",
    "        with open(filename, \"wb\") as file:\n",
    "            file.write(response.content)\n",
    "            print(\"zip file saved...\")"
   ]
  },
  {
   "cell_type": "code",
   "execution_count": 37,
   "metadata": {},
   "outputs": [],
   "source": [
    "#now extract each file\n",
    "csv_end = \"-tripdata.csv\"\n",
    "temp = []\n",
    "for i in range(1, 13):\n",
    "    #business name changes in April (04)\n",
    "    if(i < 5):\n",
    "        tail_url = business0_name + tail\n",
    "        csv_tail = business0_name + csv_end\n",
    "    else:\n",
    "        tail_url = business1_name + tail\n",
    "        csv_tail = business1_name + csv_end\n",
    "    if(i < 10):\n",
    "        month = \"0\" + str(i)\n",
    "    else:\n",
    "        month = str(i)\n",
    "    filename = year + month + tail_url \n",
    "    with zipfile.ZipFile(filename, 'r') as myzip:\n",
    "        myzip.extractall()"
   ]
  },
  {
   "cell_type": "code",
   "execution_count": 38,
   "metadata": {},
   "outputs": [],
   "source": [
    "#tidy up directory and delete zip files\n",
    "file_tail = \"-tripdata\"\n",
    "zip_tail = \".zip\"\n",
    "csv_tail = \".csv\"\n",
    "for i in range(1, 13):\n",
    "    if(i < 10):\n",
    "        month = \"0\" + str(i)\n",
    "    else:\n",
    "        month = str(i)\n",
    "    #the business name changes in April, the file data also changes\n",
    "    if(i < 5):\n",
    "        csv_name = year + month + business0_name + file_tail + csv_tail\n",
    "    else:\n",
    "        csv_name = year + month + business1_name + file_tail + csv_tail\n",
    "    zip_name = csv_name + zip_tail\n",
    "    os.remove(zip_name)"
   ]
  },
  {
   "cell_type": "code",
   "execution_count": 4,
   "metadata": {},
   "outputs": [],
   "source": [
    "#test the loading function is working \n",
    "jan = bikeshare_monthly(1)"
   ]
  },
  {
   "cell_type": "code",
   "execution_count": 5,
   "metadata": {},
   "outputs": [
    {
     "name": "stdout",
     "output_type": "stream",
     "text": [
      "(192082, 13)\n",
      "<class 'pandas.core.frame.DataFrame'>\n",
      "RangeIndex: 192082 entries, 0 to 192081\n",
      "Data columns (total 13 columns):\n",
      "duration_sec               192082 non-null int64\n",
      "start_time                 192082 non-null datetime64[ns]\n",
      "end_time                   192082 non-null datetime64[ns]\n",
      "start_station_id           191834 non-null float64\n",
      "start_station_name         191834 non-null object\n",
      "start_station_latitude     192082 non-null object\n",
      "start_station_longitude    192082 non-null object\n",
      "end_station_id             191834 non-null float64\n",
      "end_station_name           191834 non-null object\n",
      "end_station_latitude       192082 non-null object\n",
      "end_station_longitude      192082 non-null object\n",
      "bike_id                    192082 non-null object\n",
      "user_type                  192082 non-null category\n",
      "dtypes: category(1), datetime64[ns](2), float64(2), int64(1), object(7)\n",
      "memory usage: 17.8+ MB\n",
      "None\n",
      "   duration_sec              start_time                end_time  \\\n",
      "0         80825 2019-01-31 17:57:44.613 2019-02-01 16:24:49.864   \n",
      "1         65900 2019-01-31 20:58:33.886 2019-02-01 15:16:54.173   \n",
      "2         62633 2019-01-31 18:06:52.924 2019-02-01 11:30:46.530   \n",
      "3         44680 2019-01-31 19:46:09.719 2019-02-01 08:10:50.318   \n",
      "4         60709 2019-01-31 14:19:01.541 2019-02-01 07:10:51.065   \n",
      "\n",
      "   start_station_id           start_station_name start_station_latitude  \\\n",
      "0             229.0    Foothill Blvd at 42nd Ave             37.7757452   \n",
      "1               4.0  Cyril Magnin St at Ellis St          37.7858806269   \n",
      "2             245.0       Downtown Berkeley BART              37.870139   \n",
      "3              85.0      Church St at Duboce Ave             37.7700831   \n",
      "4              16.0      Steuart St at Market St     37.794129999999996   \n",
      "\n",
      "  start_station_longitude  end_station_id              end_station_name  \\\n",
      "0            -122.2130372           196.0       Grand Ave at Perkins St   \n",
      "1         -122.4089150084           134.0        Valencia St at 24th St   \n",
      "2             -122.268422           157.0          65th St at Hollis St   \n",
      "3     -122.42915570000001            53.0        Grove St at Divisadero   \n",
      "4              -122.39443            28.0  The Embarcadero at Bryant St   \n",
      "\n",
      "  end_station_latitude end_station_longitude bike_id   user_type  \n",
      "0   37.808893934000004       -122.2564601898    4861  Subscriber  \n",
      "1           37.7524278   -122.42062779999999    5506  Subscriber  \n",
      "2           37.8467842          -122.2913761    2717    Customer  \n",
      "3   37.775946000000005          -122.4377775    4557    Customer  \n",
      "4        37.7871680147       -122.3880979233    2100    Customer  \n",
      "Subscriber    168732\n",
      "Customer       23350\n",
      "Name: user_type, dtype: int64\n"
     ]
    }
   ],
   "source": [
    "print(jan.shape)\n",
    "print(jan.info())\n",
    "print(jan.head())\n",
    "print(jan.user_type.value_counts())"
   ]
  },
  {
   "cell_type": "markdown",
   "metadata": {},
   "source": [
    "## Dataset features \n",
    "\n",
    "There are 14 features, with the number of rows varying depending on the month. For this subset there were 192082 bike hires for the month of January. The majority of the columns are identifying information to do with the start and end stations, like their id, latitude and longitude coordinates and the station name. The rental times and the duration of hire are self-explanatory \n",
    "\n",
    "- user_type is categorical and takes one of two values, either Customer (Casual) or Subscriber (Member).  \n",
    "\n",
    "- bike_share_for_all_trip is the final column but I made the decision to drop it due to the lack of information to its relevance"
   ]
  },
  {
   "cell_type": "markdown",
   "metadata": {},
   "source": [
    "## Main features of interest\n",
    "\n",
    "My primary focus will be on the start and end stations. It is my assumption that bikeshare stations would hardly be a self regulating system. Some stations will get more use than others. Rental bikes will be moved from one station to another. This one directional flow of bikes will create build ups at certain stations. From a cursory glance at Subscriber and Customer use numbers. It is predominantly members that use the service. The business needs to ensure that bikes will always be available at each station for people to use. \n",
    "\n",
    " - Which stations should the company take bikes from to top up stations that are empty?\n",
    " - Are there consistent patterns of bike flows each month or does it change throughout the year?"
   ]
  },
  {
   "cell_type": "markdown",
   "metadata": {},
   "source": [
    "## Supporting features \n",
    "\n",
    "Because bike riding is an outdoor activity, I would expect there to be changes in demand depending on the time of year. start_time is an important feature in explaining this. I'm also considering finding a separate source for average weather and temperature data over the year of 2019 as it could provide more insight into ride numbers. Much of the analysis will have to be done through feature engineering. \n",
    "\n",
    "> Measuring bike_flow is chief among these - we'll start at a baseline of zero for each registered station and for each trip we -1 from the start station and +1 to the end station. These values will continue to climb or descend depending on how bikes are added or removed. Regardless of the actual number of bikes in circulation, it gives a clear picture of the system state at the end of each month. \n",
    "\n",
    "- The large number of Subscribers indicates that most hires are from Bay Area locals, are they commuting from residental areas to work or using the bikes as final leg transport? \n",
    "- This raises the additional question as to what the weekly distribution of bike hires is, is it mainly weekly commutes or do people use it as weekend transport for getting around the city?"
   ]
  },
  {
   "cell_type": "markdown",
   "metadata": {},
   "source": [
    "## Univariate Exploration \n",
    "\n",
    "Firstly lets look at the distribution of hire duration \n",
    "\n",
    "### Distribution of hire duration"
   ]
  },
  {
   "cell_type": "code",
   "execution_count": 6,
   "metadata": {},
   "outputs": [
    {
     "data": {
      "text/html": [
       "<div>\n",
       "<style scoped>\n",
       "    .dataframe tbody tr th:only-of-type {\n",
       "        vertical-align: middle;\n",
       "    }\n",
       "\n",
       "    .dataframe tbody tr th {\n",
       "        vertical-align: top;\n",
       "    }\n",
       "\n",
       "    .dataframe thead th {\n",
       "        text-align: right;\n",
       "    }\n",
       "</style>\n",
       "<table border=\"1\" class=\"dataframe\">\n",
       "  <thead>\n",
       "    <tr style=\"text-align: right;\">\n",
       "      <th></th>\n",
       "      <th>duration_sec</th>\n",
       "      <th>start_station_id</th>\n",
       "      <th>end_station_id</th>\n",
       "    </tr>\n",
       "  </thead>\n",
       "  <tbody>\n",
       "    <tr>\n",
       "      <th>count</th>\n",
       "      <td>192082.000000</td>\n",
       "      <td>191834.000000</td>\n",
       "      <td>191834.000000</td>\n",
       "    </tr>\n",
       "    <tr>\n",
       "      <th>mean</th>\n",
       "      <td>750.952473</td>\n",
       "      <td>132.841639</td>\n",
       "      <td>131.218700</td>\n",
       "    </tr>\n",
       "    <tr>\n",
       "      <th>std</th>\n",
       "      <td>1672.433843</td>\n",
       "      <td>109.662417</td>\n",
       "      <td>109.546275</td>\n",
       "    </tr>\n",
       "    <tr>\n",
       "      <th>min</th>\n",
       "      <td>61.000000</td>\n",
       "      <td>3.000000</td>\n",
       "      <td>3.000000</td>\n",
       "    </tr>\n",
       "    <tr>\n",
       "      <th>25%</th>\n",
       "      <td>333.000000</td>\n",
       "      <td>43.000000</td>\n",
       "      <td>41.000000</td>\n",
       "    </tr>\n",
       "    <tr>\n",
       "      <th>50%</th>\n",
       "      <td>528.000000</td>\n",
       "      <td>98.000000</td>\n",
       "      <td>95.000000</td>\n",
       "    </tr>\n",
       "    <tr>\n",
       "      <th>75%</th>\n",
       "      <td>821.000000</td>\n",
       "      <td>211.000000</td>\n",
       "      <td>203.000000</td>\n",
       "    </tr>\n",
       "    <tr>\n",
       "      <th>max</th>\n",
       "      <td>84002.000000</td>\n",
       "      <td>385.000000</td>\n",
       "      <td>385.000000</td>\n",
       "    </tr>\n",
       "  </tbody>\n",
       "</table>\n",
       "</div>"
      ],
      "text/plain": [
       "        duration_sec  start_station_id  end_station_id\n",
       "count  192082.000000     191834.000000   191834.000000\n",
       "mean      750.952473        132.841639      131.218700\n",
       "std      1672.433843        109.662417      109.546275\n",
       "min        61.000000          3.000000        3.000000\n",
       "25%       333.000000         43.000000       41.000000\n",
       "50%       528.000000         98.000000       95.000000\n",
       "75%       821.000000        211.000000      203.000000\n",
       "max     84002.000000        385.000000      385.000000"
      ]
     },
     "execution_count": 6,
     "metadata": {},
     "output_type": "execute_result"
    }
   ],
   "source": [
    "#this will give us an idea of our bin sizes \n",
    "jan.describe()"
   ]
  },
  {
   "cell_type": "markdown",
   "metadata": {},
   "source": [
    "The maximum value looks a bit out there. Apparently someone hired a bike for 59 days! and another only hired a bike for 1 minute. What seems to be a reasonable maximum time for bike hire? 2 hours? so, (7200 secs) and we'll set the minimum to 60 secs. The step can be 60 secs"
   ]
  },
  {
   "cell_type": "code",
   "execution_count": 7,
   "metadata": {
    "collapsed": true
   },
   "outputs": [],
   "source": [
    "bin_values = np.arange(start=60, stop=7200, step=60)"
   ]
  },
  {
   "cell_type": "code",
   "execution_count": 8,
   "metadata": {},
   "outputs": [
    {
     "data": {
      "image/png": "[encoded data removed]",
      "text/plain": [
       "<Figure size 1440x720 with 1 Axes>"
      ]
     },
     "metadata": {},
     "output_type": "display_data"
    }
   ],
   "source": [
    "plt.figure(figsize=(20,10));\n",
    "plt.hist(jan.duration_sec, bins = bin_values);\n",
    "plt.title(\"Distribution of Ride Duration\")\n",
    "plt.xlabel(\"Duration in seconds\")\n",
    "plt.show();"
   ]
  },
  {
   "cell_type": "code",
   "execution_count": 9,
   "metadata": {},
   "outputs": [
    {
     "name": "stdout",
     "output_type": "stream",
     "text": [
      "93.48247102799846\n"
     ]
    }
   ],
   "source": [
    "print(jan[jan.duration_sec <= 1500].duration_sec.count()/jan.shape[0]*100)"
   ]
  },
  {
   "cell_type": "code",
   "execution_count": 10,
   "metadata": {},
   "outputs": [
    {
     "name": "stdout",
     "output_type": "stream",
     "text": [
      "25.0\n"
     ]
    }
   ],
   "source": [
    "print(1500/60)"
   ]
  },
  {
   "cell_type": "markdown",
   "metadata": {},
   "source": [
    "Hire duration seems to be extremely right skewed with a long tail. There are a minority spread over the 30 minutes to 2 hour range, however the majority - 93.5% of the hires fall in the between 60 and 1500 seconds (25 minutes) duration."
   ]
  },
  {
   "cell_type": "markdown",
   "metadata": {},
   "source": [
    "### The distribution of bikes at the end of January\n",
    "\n",
    "first off lets get the value counts for the start stations and the end stations "
   ]
  },
  {
   "cell_type": "code",
   "execution_count": 11,
   "metadata": {},
   "outputs": [
    {
     "name": "stdout",
     "output_type": "stream",
     "text": [
      "324\n"
     ]
    },
    {
     "data": {
      "image/png": "[encoded data removed]",
      "text/plain": [
       "<Figure size 1440x720 with 1 Axes>"
      ]
     },
     "metadata": {},
     "output_type": "display_data"
    }
   ],
   "source": [
    "print(jan.start_station_id.nunique())\n",
    "#check that there are no missing start station ids visually \n",
    "plt.figure(figsize=(20,10));\n",
    "bin_values = np.arange(start=0, stop=400, step=1)\n",
    "plt.hist(jan.start_station_id, bins = bin_values)\n",
    "plt.show()"
   ]
  },
  {
   "cell_type": "code",
   "execution_count": 12,
   "metadata": {},
   "outputs": [
    {
     "name": "stdout",
     "output_type": "stream",
     "text": [
      "324\n"
     ]
    },
    {
     "data": {
      "image/png": "[encoded data removed]",
      "text/plain": [
       "<Figure size 1440x720 with 1 Axes>"
      ]
     },
     "metadata": {},
     "output_type": "display_data"
    }
   ],
   "source": [
    "print(jan.end_station_id.nunique())\n",
    "#check that there are no missing end station ids visually \n",
    "plt.figure(figsize=(20,10));\n",
    "bin_values = np.arange(start=0, stop=400, step=1)\n",
    "plt.hist(jan.end_station_id, bins = bin_values)\n",
    "plt.show()"
   ]
  },
  {
   "cell_type": "markdown",
   "metadata": {},
   "source": [
    "There appear to be some missing station numbers in the range of 1 to 385, the business might have made some odd choices in giving their stations ids. The stations will be dropped after merging if they only exist in one column. "
   ]
  },
  {
   "cell_type": "code",
   "execution_count": 13,
   "metadata": {},
   "outputs": [
    {
     "name": "stdout",
     "output_type": "stream",
     "text": [
      "<class 'pandas.core.frame.DataFrame'>\n",
      "RangeIndex: 324 entries, 0 to 323\n",
      "Data columns (total 2 columns):\n",
      "station_id    324 non-null float64\n",
      "outflow       324 non-null int64\n",
      "dtypes: float64(1), int64(1)\n",
      "memory usage: 5.1 KB\n"
     ]
    }
   ],
   "source": [
    "#start station tallies\n",
    "start_series = jan.start_station_id.value_counts()\n",
    "start_df = start_series.to_frame()\n",
    "start_df.reset_index(inplace=True)\n",
    "start_df.rename(columns={\"index\": \"station_id\", \"start_station_id\": \"outflow\"}, inplace=True)\n",
    "start_df.info()"
   ]
  },
  {
   "cell_type": "code",
   "execution_count": 14,
   "metadata": {},
   "outputs": [
    {
     "name": "stdout",
     "output_type": "stream",
     "text": [
      "<class 'pandas.core.frame.DataFrame'>\n",
      "RangeIndex: 324 entries, 0 to 323\n",
      "Data columns (total 2 columns):\n",
      "station_id    324 non-null float64\n",
      "inflow        324 non-null int64\n",
      "dtypes: float64(1), int64(1)\n",
      "memory usage: 5.1 KB\n"
     ]
    }
   ],
   "source": [
    "#end station tallies\n",
    "end_series = jan.end_station_id.value_counts()\n",
    "end_df = end_series.to_frame()\n",
    "end_df.reset_index(inplace=True)\n",
    "end_df.rename(columns={\"index\": \"station_id\", \"end_station_id\": \"inflow\"}, inplace=True)\n",
    "end_df.info()"
   ]
  },
  {
   "cell_type": "code",
   "execution_count": 15,
   "metadata": {},
   "outputs": [],
   "source": [
    "#merge into one dataframe\n",
    "flows = end_df.merge(start_df, on='station_id')"
   ]
  },
  {
   "cell_type": "code",
   "execution_count": 16,
   "metadata": {},
   "outputs": [
    {
     "name": "stdout",
     "output_type": "stream",
     "text": [
      "<class 'pandas.core.frame.DataFrame'>\n",
      "Int64Index: 324 entries, 0 to 323\n",
      "Data columns (total 3 columns):\n",
      "station_id    324 non-null float64\n",
      "inflow        324 non-null int64\n",
      "outflow       324 non-null int64\n",
      "dtypes: float64(1), int64(2)\n",
      "memory usage: 10.1 KB\n"
     ]
    }
   ],
   "source": [
    "flows.info()"
   ]
  },
  {
   "cell_type": "code",
   "execution_count": 17,
   "metadata": {},
   "outputs": [
    {
     "data": {
      "text/plain": [
       "324"
      ]
     },
     "execution_count": 17,
     "metadata": {},
     "output_type": "execute_result"
    }
   ],
   "source": [
    "flows['net_flow'] = flows['inflow'] - flows['outflow']\n",
    "flows.station_id.nunique()"
   ]
  },
  {
   "cell_type": "code",
   "execution_count": 18,
   "metadata": {
    "collapsed": true
   },
   "outputs": [],
   "source": [
    "flows.sort_values('station_id', axis=0, ascending=True, inplace=True, kind='quicksort', na_position='last')"
   ]
  },
  {
   "cell_type": "code",
   "execution_count": 37,
   "metadata": {},
   "outputs": [
    {
     "data": {
      "image/png": "[encoded data removed]",
      "text/plain": [
       "<Figure size 1440x720 with 1 Axes>"
      ]
     },
     "metadata": {},
     "output_type": "display_data"
    }
   ],
   "source": [
    "x = np.arange(10, 2)\n",
    "plt.figure(figsize=(20,10));\n",
    "flows['net_flow'].plot(kind='bar',color=(flows['net_flow'] > 0).map({True: 'g',False: 'r'}))\n",
    "plt.xticks(x, \"\")\n",
    "plt.title(\"Net flow by bike hire station\")\n",
    "plt.ylabel(\"Bike count\")\n",
    "plt.xlabel(\"Bike stations\")\n",
    "plt.show()"
   ]
  },
  {
   "cell_type": "markdown",
   "metadata": {},
   "source": [
    "Now we get the result of the previous two histograms if they were superimposed on each other. A measure of net flows of each bike station. There are a number of significant stations in terms of bike drop offs. Which stations represent those out net outflows and inflows?"
   ]
  },
  {
   "cell_type": "code",
   "execution_count": 41,
   "metadata": {},
   "outputs": [
    {
     "data": {
      "text/html": [
       "<div>\n",
       "<style scoped>\n",
       "    .dataframe tbody tr th:only-of-type {\n",
       "        vertical-align: middle;\n",
       "    }\n",
       "\n",
       "    .dataframe tbody tr th {\n",
       "        vertical-align: top;\n",
       "    }\n",
       "\n",
       "    .dataframe thead th {\n",
       "        text-align: right;\n",
       "    }\n",
       "</style>\n",
       "<table border=\"1\" class=\"dataframe\">\n",
       "  <thead>\n",
       "    <tr style=\"text-align: right;\">\n",
       "      <th></th>\n",
       "      <th>station_id</th>\n",
       "      <th>inflow</th>\n",
       "      <th>outflow</th>\n",
       "      <th>net_flow</th>\n",
       "    </tr>\n",
       "  </thead>\n",
       "  <tbody>\n",
       "    <tr>\n",
       "      <th>0</th>\n",
       "      <td>67.0</td>\n",
       "      <td>5244</td>\n",
       "      <td>3775</td>\n",
       "      <td>1469</td>\n",
       "    </tr>\n",
       "    <tr>\n",
       "      <th>3</th>\n",
       "      <td>15.0</td>\n",
       "      <td>3692</td>\n",
       "      <td>3115</td>\n",
       "      <td>577</td>\n",
       "    </tr>\n",
       "    <tr>\n",
       "      <th>2</th>\n",
       "      <td>21.0</td>\n",
       "      <td>3733</td>\n",
       "      <td>3166</td>\n",
       "      <td>567</td>\n",
       "    </tr>\n",
       "    <tr>\n",
       "      <th>4</th>\n",
       "      <td>30.0</td>\n",
       "      <td>3582</td>\n",
       "      <td>3055</td>\n",
       "      <td>527</td>\n",
       "    </tr>\n",
       "    <tr>\n",
       "      <th>7</th>\n",
       "      <td>6.0</td>\n",
       "      <td>2752</td>\n",
       "      <td>2278</td>\n",
       "      <td>474</td>\n",
       "    </tr>\n",
       "    <tr>\n",
       "      <th>11</th>\n",
       "      <td>44.0</td>\n",
       "      <td>2048</td>\n",
       "      <td>1799</td>\n",
       "      <td>249</td>\n",
       "    </tr>\n",
       "    <tr>\n",
       "      <th>20</th>\n",
       "      <td>350.0</td>\n",
       "      <td>1547</td>\n",
       "      <td>1309</td>\n",
       "      <td>238</td>\n",
       "    </tr>\n",
       "    <tr>\n",
       "      <th>34</th>\n",
       "      <td>176.0</td>\n",
       "      <td>1191</td>\n",
       "      <td>994</td>\n",
       "      <td>197</td>\n",
       "    </tr>\n",
       "    <tr>\n",
       "      <th>42</th>\n",
       "      <td>88.0</td>\n",
       "      <td>1095</td>\n",
       "      <td>914</td>\n",
       "      <td>181</td>\n",
       "    </tr>\n",
       "    <tr>\n",
       "      <th>31</th>\n",
       "      <td>36.0</td>\n",
       "      <td>1221</td>\n",
       "      <td>1061</td>\n",
       "      <td>160</td>\n",
       "    </tr>\n",
       "  </tbody>\n",
       "</table>\n",
       "</div>"
      ],
      "text/plain": [
       "    station_id  inflow  outflow  net_flow\n",
       "0         67.0    5244     3775      1469\n",
       "3         15.0    3692     3115       577\n",
       "2         21.0    3733     3166       567\n",
       "4         30.0    3582     3055       527\n",
       "7          6.0    2752     2278       474\n",
       "11        44.0    2048     1799       249\n",
       "20       350.0    1547     1309       238\n",
       "34       176.0    1191      994       197\n",
       "42        88.0    1095      914       181\n",
       "31        36.0    1221     1061       160"
      ]
     },
     "execution_count": 41,
     "metadata": {},
     "output_type": "execute_result"
    }
   ],
   "source": [
    "#find the stations accumulating bikes\n",
    "flows.sort_values('net_flow', axis=0, ascending=False, inplace=True, kind='quicksort', na_position='last')\n",
    "flows.head(10)"
   ]
  },
  {
   "cell_type": "code",
   "execution_count": 42,
   "metadata": {},
   "outputs": [
    {
     "data": {
      "text/html": [
       "<div>\n",
       "<style scoped>\n",
       "    .dataframe tbody tr th:only-of-type {\n",
       "        vertical-align: middle;\n",
       "    }\n",
       "\n",
       "    .dataframe tbody tr th {\n",
       "        vertical-align: top;\n",
       "    }\n",
       "\n",
       "    .dataframe thead th {\n",
       "        text-align: right;\n",
       "    }\n",
       "</style>\n",
       "<table border=\"1\" class=\"dataframe\">\n",
       "  <thead>\n",
       "    <tr style=\"text-align: right;\">\n",
       "      <th></th>\n",
       "      <th>station_id</th>\n",
       "      <th>inflow</th>\n",
       "      <th>outflow</th>\n",
       "      <th>net_flow</th>\n",
       "    </tr>\n",
       "  </thead>\n",
       "  <tbody>\n",
       "    <tr>\n",
       "      <th>76</th>\n",
       "      <td>243.0</td>\n",
       "      <td>818</td>\n",
       "      <td>1403</td>\n",
       "      <td>-585</td>\n",
       "    </tr>\n",
       "    <tr>\n",
       "      <th>10</th>\n",
       "      <td>22.0</td>\n",
       "      <td>2264</td>\n",
       "      <td>2634</td>\n",
       "      <td>-370</td>\n",
       "    </tr>\n",
       "    <tr>\n",
       "      <th>165</th>\n",
       "      <td>71.0</td>\n",
       "      <td>376</td>\n",
       "      <td>667</td>\n",
       "      <td>-291</td>\n",
       "    </tr>\n",
       "    <tr>\n",
       "      <th>155</th>\n",
       "      <td>52.0</td>\n",
       "      <td>400</td>\n",
       "      <td>623</td>\n",
       "      <td>-223</td>\n",
       "    </tr>\n",
       "    <tr>\n",
       "      <th>98</th>\n",
       "      <td>70.0</td>\n",
       "      <td>678</td>\n",
       "      <td>870</td>\n",
       "      <td>-192</td>\n",
       "    </tr>\n",
       "    <tr>\n",
       "      <th>195</th>\n",
       "      <td>253.0</td>\n",
       "      <td>278</td>\n",
       "      <td>458</td>\n",
       "      <td>-180</td>\n",
       "    </tr>\n",
       "    <tr>\n",
       "      <th>173</th>\n",
       "      <td>132.0</td>\n",
       "      <td>353</td>\n",
       "      <td>507</td>\n",
       "      <td>-154</td>\n",
       "    </tr>\n",
       "    <tr>\n",
       "      <th>92</th>\n",
       "      <td>163.0</td>\n",
       "      <td>693</td>\n",
       "      <td>842</td>\n",
       "      <td>-149</td>\n",
       "    </tr>\n",
       "    <tr>\n",
       "      <th>140</th>\n",
       "      <td>80.0</td>\n",
       "      <td>452</td>\n",
       "      <td>601</td>\n",
       "      <td>-149</td>\n",
       "    </tr>\n",
       "    <tr>\n",
       "      <th>17</th>\n",
       "      <td>66.0</td>\n",
       "      <td>1705</td>\n",
       "      <td>1852</td>\n",
       "      <td>-147</td>\n",
       "    </tr>\n",
       "  </tbody>\n",
       "</table>\n",
       "</div>"
      ],
      "text/plain": [
       "     station_id  inflow  outflow  net_flow\n",
       "76        243.0     818     1403      -585\n",
       "10         22.0    2264     2634      -370\n",
       "165        71.0     376      667      -291\n",
       "155        52.0     400      623      -223\n",
       "98         70.0     678      870      -192\n",
       "195       253.0     278      458      -180\n",
       "173       132.0     353      507      -154\n",
       "92        163.0     693      842      -149\n",
       "140        80.0     452      601      -149\n",
       "17         66.0    1705     1852      -147"
      ]
     },
     "execution_count": 42,
     "metadata": {},
     "output_type": "execute_result"
    }
   ],
   "source": [
    "#find the stations losing bikes\n",
    "flows.sort_values('net_flow', axis=0, ascending=True, inplace=True, kind='quicksort', na_position='last')\n",
    "flows.head(10)"
   ]
  },
  {
   "cell_type": "markdown",
   "metadata": {},
   "source": []
  }
 ],
 "metadata": {
  "kernelspec": {
   "display_name": "Python 3",
   "language": "python",
   "name": "python3"
  },
  "language_info": {
   "codemirror_mode": {
    "name": "ipython",
    "version": 3
   },
   "file_extension": ".py",
   "mimetype": "text/x-python",
   "name": "python",
   "nbconvert_exporter": "python",
   "pygments_lexer": "ipython3",
   "version": "3.6.10"
  }
 },
 "nbformat": 4,
 "nbformat_minor": 2
}
